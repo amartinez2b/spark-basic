{
 "cells": [
  {
   "cell_type": "code",
   "execution_count": 0,
   "metadata": {
    "application/vnd.databricks.v1+cell": {
     "cellMetadata": {},
     "inputWidgets": {},
     "nuid": "5a9fc866-4493-44dd-bc9f-4475627f657f",
     "showTitle": false,
     "tableResultSettingsMap": {},
     "title": ""
    },
    "colab": {
     "base_uri": "https://localhost:8080/"
    },
    "id": "AKL4cDQz9s_n",
    "outputId": "b960d2f9-2757-47dd-8e6f-6205a752effe"
   },
   "outputs": [],
   "source": [
    "from pyspark.sql import SparkSession, Row\n",
    "import re\n",
    "\n",
    "# Crear sesión de Spark\n",
    "spark = SparkSession.builder.appName(\"LogsNoEstructurados\").getOrCreate()\n",
    "\n",
    "# Leer el archivo como RDD\n",
    "rdd_log = spark.sparkContext.textFile(\"/content/sample_data/accesos.log\")\n",
    "\n",
    "# Ver las primeras líneas\n",
    "print(\"📄 Contenido del log:\")\n",
    "for linea in rdd_log.take(3):\n",
    "    print(linea)\n",
    "\n",
    "# Función para parsear una línea usando expresiones regulares\n",
    "def parsear_log(linea):\n",
    "    patron = r\"\\[(.*?)\\] INFO - Usuario: (.*?) - Acción: (.*?) - IP: (.*)\"\n",
    "    match = re.match(patron, linea)\n",
    "    if match:\n",
    "        timestamp, usuario, accion, ip = match.groups()\n",
    "        return Row(timestamp=timestamp, usuario=usuario, accion=accion, ip=ip)\n",
    "    else:\n",
    "        return None  # línea inválida\n",
    "\n",
    "# Parsear cada línea y filtrar las que no coinciden\n",
    "rdd_parseado = rdd_log.map(parsear_log).filter(lambda x: x is not None)\n",
    "\n",
    "# Convertir a DataFrame\n",
    "df_logs = spark.createDataFrame(rdd_parseado)\n",
    "\n",
    "# Mostrar el resultado\n",
    "df_logs.show(truncate=False)"
   ]
  }
 ],
 "metadata": {
  "application/vnd.databricks.v1+notebook": {
   "computePreferences": null,
   "dashboards": [],
   "environmentMetadata": null,
   "inputWidgetPreferences": null,
   "language": "python",
   "notebookMetadata": {},
   "notebookName": "RDD_to_DataFrame",
   "widgets": {}
  },
  "colab": {
   "provenance": []
  },
  "kernelspec": {
   "display_name": "Python 3",
   "name": "python3"
  },
  "language_info": {
   "name": "python"
  }
 },
 "nbformat": 4,
 "nbformat_minor": 0
}
