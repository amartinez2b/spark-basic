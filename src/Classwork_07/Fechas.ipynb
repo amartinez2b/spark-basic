{
 "cells": [
  {
   "cell_type": "markdown",
   "metadata": {
    "application/vnd.databricks.v1+cell": {
     "cellMetadata": {},
     "inputWidgets": {},
     "nuid": "2c43992f-e654-4694-b0ff-2f72e951402f",
     "showTitle": false,
     "tableResultSettingsMap": {},
     "title": ""
    }
   },
   "source": [
    "# 📘 Sesión 7 — Manipulación de Fechas y Timestamps en PySpark\n",
    "\n",
    "En esta sesión aprenderemos a trabajar con **columnas de tipo fecha y timestamp** usando funciones integradas de PySpark.\n",
    "\n",
    "PySpark incluye muchas funciones útiles para extraer partes de la fecha, calcular diferencias de tiempo, transformar formatos y más. Esto es fundamental para:\n",
    "\n",
    "- Calcular la antigüedad de eventos o registros\n",
    "- Agrupar por día, mes o año\n",
    "- Filtrar rangos de fechas\n",
    "- Obtener la hora, el día de la semana, etc.\n",
    "\n",
    "---\n",
    "\n",
    "## 🛠️ Funciones comunes para fechas\n",
    "\n",
    "| Función             | Descripción                                  |\n",
    "|---------------------|----------------------------------------------|\n",
    "| `to_date()`         | Convierte un timestamp a solo fecha          |\n",
    "| `datediff()`        | Calcula días de diferencia entre dos fechas  |\n",
    "| `current_date()`    | Devuelve la fecha actual                     |\n",
    "| `date_format()`     | Devuelve partes de la fecha (ej. solo hora)  |\n",
    "| `year()`, `month()` | Extrae componentes de la fecha               |\n",
    "| `add_months()`      | Suma meses a una fecha dada                  |\n",
    "\n",
    "---"
   ]
  },
  {
   "cell_type": "code",
   "execution_count": 0,
   "metadata": {
    "application/vnd.databricks.v1+cell": {
     "cellMetadata": {
      "byteLimit": 2048000,
      "rowLimit": 10000
     },
     "inputWidgets": {},
     "nuid": "7e74ac8d-8cb5-44c9-8a1e-e4e18fe1e511",
     "showTitle": false,
     "tableResultSettingsMap": {},
     "title": ""
    }
   },
   "outputs": [],
   "source": [
    "from pyspark.sql import SparkSession\n",
    "from pyspark.sql.functions import to_date, current_date, datediff, year, month, date_format\n",
    "\n",
    "# Datos ficticios\n",
    "data = [\n",
    "    (1, \"2023-12-01 10:35:00\"),\n",
    "    (2, \"2024-06-15 09:20:00\"),\n",
    "    (3, \"2025-01-10 18:50:00\")\n",
    "]\n",
    "df = spark.createDataFrame(data, [\"clienteID\", \"fecha_compra\"])\n",
    "\n",
    "# Convertir a tipo fecha\n",
    "df = df.withColumn(\"fecha\", to_date(\"fecha_compra\"))\n",
    "\n",
    "# Agregar columnas derivadas\n",
    "df = df.withColumn(\"hoy\", current_date()) \\\n",
    "       .withColumn(\"dias_desde_compra\", datediff(current_date(), \"fecha\")) \\\n",
    "       .withColumn(\"anio\", year(\"fecha\")) \\\n",
    "       .withColumn(\"mes\", month(\"fecha\")) \\\n",
    "       .withColumn(\"hora_compra\", date_format(\"fecha_compra\", \"HH:mm:ss\"))\n",
    "\n",
    "df.show(truncate=False)"
   ]
  },
  {
   "cell_type": "markdown",
   "metadata": {
    "application/vnd.databricks.v1+cell": {
     "cellMetadata": {},
     "inputWidgets": {},
     "nuid": "22a47f02-1d07-49f9-9616-decff9cc0806",
     "showTitle": false,
     "tableResultSettingsMap": {},
     "title": ""
    }
   },
   "source": [
    "## ✍️ Ejercicio práctico — Análisis temporal de transacciones\n",
    "\n",
    "Usando la tabla `samples.bakehouse.sales_transactions`, realizá lo siguiente:\n",
    "\n",
    "1. Extraé la fecha (`to_date(dateTime)`) y la hora (`date_format(dateTime, 'HH:mm:ss')`) en columnas separadas.\n",
    "2. Calculá cuántos días pasaron desde cada transacción hasta hoy (`datediff()`).\n",
    "3. Extraé el mes y el año de cada transacción (`month()`, `year()`).\n",
    "4. Mostrá solo las transacciones que ocurrieron en el mes actual.\n",
    "5. Agrupá por mes y contá cuántas transacciones hubo por mes.\n",
    "\n",
    "🎯 Bonus: Calcula el promedio de `totalPrice` por mes y mostralo ordenado cronológicamente."
   ]
  }
 ],
 "metadata": {
  "application/vnd.databricks.v1+notebook": {
   "computePreferences": null,
   "dashboards": [],
   "environmentMetadata": {
    "base_environment": "",
    "environment_version": "2"
   },
   "inputWidgetPreferences": null,
   "language": "python",
   "notebookMetadata": {
    "pythonIndentUnit": 4
   },
   "notebookName": "Fechas",
   "widgets": {}
  },
  "language_info": {
   "name": "python"
  }
 },
 "nbformat": 4,
 "nbformat_minor": 0
}
