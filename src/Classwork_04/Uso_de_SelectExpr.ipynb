{
 "cells": [
  {
   "cell_type": "markdown",
   "metadata": {
    "application/vnd.databricks.v1+cell": {
     "cellMetadata": {},
     "inputWidgets": {},
     "nuid": "5c67b276-f3b5-4179-9f61-4dd384224e02",
     "showTitle": false,
     "tableResultSettingsMap": {},
     "title": ""
    }
   },
   "source": [
    "# 🧠 Introducción al uso de `selectExpr` en PySpark\n",
    "\n",
    "La función `selectExpr()` de PySpark te permite escribir expresiones SQL dentro de un DataFrame de forma rápida y concisa.  \n",
    "Es una forma poderosa de aplicar funciones, operaciones matemáticas, condiciones y alias **en una sola línea**, como si estuvieras escribiendo en SQL.\n",
    "\n",
    "---\n",
    "\n",
    "### ✅ Ventajas de `selectExpr`\n",
    "- Más expresivo que `.select()` con `.alias()`.\n",
    "- Permite aplicar múltiples transformaciones directamente.\n",
    "- Ideal para operaciones simples de derivación de columnas.\n",
    "\n",
    "---\n",
    "\n",
    "### 🧪 Ejemplo básico\n",
    "\n",
    "\n",
    "```python\n",
    "df.selectExpr(\"first_name\", \"upper(last_name) as last_upper\", \"concat(first_name, ' ', last_name) as full_name\")\n",
    "```"
   ]
  },
  {
   "cell_type": "code",
   "execution_count": 0,
   "metadata": {
    "application/vnd.databricks.v1+cell": {
     "cellMetadata": {
      "byteLimit": 2048000,
      "rowLimit": 10000
     },
     "inputWidgets": {},
     "nuid": "9bd61c9a-bc4d-4422-ac0b-07376973e4fe",
     "showTitle": false,
     "tableResultSettingsMap": {},
     "title": ""
    }
   },
   "outputs": [],
   "source": [
    "# Leer tabla del catálogo\n",
    "df_customers = spark.table(\"samples.bakehouse.sales_customers\")\n",
    "\n",
    "# Aplicar selectExpr\n",
    "df_customers_expr = df_customers.selectExpr(\n",
    "    \"customerID\",\n",
    "    \"first_name\",\n",
    "    \"last_name\",\n",
    "    \"concat(first_name, ' ', last_name) as full_name\",\n",
    "    \"upper(gender) as gender_upper\",\n",
    "    \"length(email_address) as email_length\"\n",
    ")\n",
    "\n",
    "# Mostrar resultado\n",
    "df_customers_expr.show(5, truncate=False)"
   ]
  },
  {
   "cell_type": "markdown",
   "metadata": {
    "application/vnd.databricks.v1+cell": {
     "cellMetadata": {},
     "inputWidgets": {},
     "nuid": "089fa805-4dce-4fae-969a-14013ba1536a",
     "showTitle": false,
     "tableResultSettingsMap": {},
     "title": ""
    }
   },
   "source": [
    "## ✍️ Ejercicio — Usando `selectExpr` con transacciones\n",
    "\n",
    "Trabajá sobre la tabla `samples.bakehouse.sales_transactions` y realizá las siguientes transformaciones usando `selectExpr`:\n",
    "\n",
    "1. Mostrar `transactionID`, `product`, `quantity`, `unitPrice`, `totalPrice`.\n",
    "2. Crear una columna llamada `subtotal` calculada como `quantity * unitPrice`.\n",
    "3. Crear una columna llamada `es_gran_compra` que indique `\"SI\"` si `totalPrice > 100`, o `\"NO\"` en caso contrario.\n",
    "4. Mostrar una nueva columna `metodo_pago_mayus` con el método de pago en mayúsculas.\n",
    "5. Agregar un alias a cada nueva columna.\n",
    "\n",
    "📤 Entregá un notebook `.ipynb` o script `.py` que muestre los resultados con `.show()`."
   ]
  },
  {
   "cell_type": "code",
   "execution_count": 0,
   "metadata": {
    "application/vnd.databricks.v1+cell": {
     "cellMetadata": {},
     "inputWidgets": {},
     "nuid": "be970632-73a7-4d18-8ae0-717ec7eef36d",
     "showTitle": false,
     "tableResultSettingsMap": {},
     "title": ""
    }
   },
   "outputs": [],
   "source": [
    "# Escribe aqui tu codigo"
   ]
  }
 ],
 "metadata": {
  "application/vnd.databricks.v1+notebook": {
   "computePreferences": null,
   "dashboards": [],
   "environmentMetadata": {
    "base_environment": "",
    "environment_version": "2"
   },
   "inputWidgetPreferences": null,
   "language": "python",
   "notebookMetadata": {
    "pythonIndentUnit": 4
   },
   "notebookName": "Uso_de_SelectExpr",
   "widgets": {}
  },
  "language_info": {
   "name": "python"
  }
 },
 "nbformat": 4,
 "nbformat_minor": 0
}
