{
 "cells": [
  {
   "cell_type": "markdown",
   "metadata": {
    "application/vnd.databricks.v1+cell": {
     "cellMetadata": {},
     "inputWidgets": {},
     "nuid": "46e2fe7b-bc32-4c9c-8953-91782c4e5567",
     "showTitle": false,
     "tableResultSettingsMap": {},
     "title": ""
    }
   },
   "source": [
    "# 📘 Sesión 5 — Agrupaciones y Agregaciones en PySpark\n",
    "\n",
    "Las funciones de **agrupación** y **agregación** son fundamentales para resumir y analizar datos. Nos permiten responder preguntas como:\n",
    "\n",
    "- ¿Cuántos clientes hay por país?\n",
    "- ¿Cuál es el método de pago más utilizado?\n",
    "- ¿Cuál es el total de ventas por producto o por día?\n",
    "\n",
    "---\n",
    "\n",
    "### 🔧 Funciones clave en esta sesión:\n",
    "\n",
    "| Función                  | Descripción                                   |\n",
    "|--------------------------|-----------------------------------------------|\n",
    "| `groupBy(col)`           | Agrupa filas que comparten un mismo valor     |\n",
    "| `agg(...)`               | Aplica una o varias funciones de agregación   |\n",
    "| `.count()`               | Cuenta el número de registros                 |\n",
    "| `.sum(\"col\")`            | Suma los valores de una columna               |\n",
    "| `.avg(\"col\")`            | Calcula el promedio                          |\n",
    "| `.max(\"col\")`, `.min()`  | Obtiene el máximo/mínimo de una columna       |\n",
    "\n",
    "Estas funciones son altamente eficientes, escalables y ejecutan en paralelo sobre grandes volúmenes de datos.\n",
    "\n",
    "---"
   ]
  },
  {
   "cell_type": "code",
   "execution_count": 0,
   "metadata": {
    "application/vnd.databricks.v1+cell": {
     "cellMetadata": {
      "byteLimit": 2048000,
      "rowLimit": 10000
     },
     "inputWidgets": {},
     "nuid": "25f3b651-00bf-4512-ace3-f35e3b870cf6",
     "showTitle": false,
     "tableResultSettingsMap": {},
     "title": ""
    }
   },
   "outputs": [],
   "source": [
    "from pyspark.sql import SparkSession\n",
    "from pyspark.sql import functions as F\n",
    "\n",
    "# Leer la tabla de clientes\n",
    "df_customers = spark.table(\"samples.bakehouse.sales_customers\")\n",
    "\n",
    "# 1. Total de clientes por país\n",
    "clientes_por_pais = df_customers.groupBy(\"country\").count().orderBy(\"count\", ascending=False)\n",
    "clientes_por_pais.show(10, truncate=False)\n",
    "\n",
    "# 2. Total de clientes por género\n",
    "clientes_por_genero = df_customers.groupBy(\"gender\").agg(F.count(\"*\").alias(\"total\"))\n",
    "clientes_por_genero.show()\n",
    "\n",
    "# 3. Número de ciudades distintas por país\n",
    "ciudades_distintas = df_customers.groupBy(\"country\").agg(F.countDistinct(\"city\").alias(\"ciudades_unicas\"))\n",
    "ciudades_distintas.orderBy(\"ciudades_unicas\", ascending=False).show(10)"
   ]
  },
  {
   "cell_type": "markdown",
   "metadata": {
    "application/vnd.databricks.v1+cell": {
     "cellMetadata": {},
     "inputWidgets": {},
     "nuid": "b6e2efbb-51ab-4c54-8d71-e9da746d9e7f",
     "showTitle": false,
     "tableResultSettingsMap": {},
     "title": ""
    }
   },
   "source": [
    "## ✍️ Ejercicio práctico — Agrupaciones y agregaciones sobre transacciones\n",
    "\n",
    "Trabaja sobre la tabla `samples.bakehouse.sales_transactions` y resuelve lo siguiente:\n",
    "\n",
    "1. Agrupa las transacciones por `paymentMethod` y muestra:\n",
    "   - La cantidad total de transacciones.\n",
    "   - La suma total del campo `totalPrice`.\n",
    "   - El valor promedio de las transacciones.\n",
    "\n",
    "2. Agrupa las ventas por `product` y calcula:\n",
    "   - Total de unidades vendidas (`sum(quantity)`).\n",
    "   - Total de ingresos (`sum(totalPrice)`).\n",
    "\n",
    "3. Agrupa por `franchiseID` y muestra:\n",
    "   - El total de transacciones por franquicia.\n",
    "   - El ticket promedio (`avg(totalPrice)`).\n",
    "\n",
    "🎯 Bonus: Muestra los 5 productos con mayor volumen de venta (cantidad total).\n",
    "\n",
    "📤 Sube tu notebook o script con los resultados y comentarios por celda."
   ]
  }
 ],
 "metadata": {
  "application/vnd.databricks.v1+notebook": {
   "computePreferences": null,
   "dashboards": [],
   "environmentMetadata": {
    "base_environment": "",
    "environment_version": "2"
   },
   "inputWidgetPreferences": null,
   "language": "python",
   "notebookMetadata": {
    "pythonIndentUnit": 4
   },
   "notebookName": "Agregaciones",
   "widgets": {}
  },
  "language_info": {
   "name": "python"
  }
 },
 "nbformat": 4,
 "nbformat_minor": 0
}
