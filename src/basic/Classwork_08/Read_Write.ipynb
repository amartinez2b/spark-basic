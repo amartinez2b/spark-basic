{
 "cells": [
  {
   "cell_type": "code",
   "execution_count": 0,
   "metadata": {
    "application/vnd.databricks.v1+cell": {
     "cellMetadata": {
      "byteLimit": 2048000,
      "rowLimit": 10000
     },
     "inputWidgets": {},
     "nuid": "58965dad-f588-40be-9dd5-a6f5e6c02041",
     "showTitle": false,
     "tableResultSettingsMap": {},
     "title": ""
    }
   },
   "outputs": [],
   "source": [
    "output_path=\"dbfs:/FileStore/files\""
   ]
  },
  {
   "cell_type": "code",
   "execution_count": 0,
   "metadata": {
    "application/vnd.databricks.v1+cell": {
     "cellMetadata": {
      "byteLimit": 2048000,
      "rowLimit": 10000
     },
     "inputWidgets": {},
     "nuid": "670b0b2f-ed78-4126-8494-362220792e62",
     "showTitle": false,
     "tableResultSettingsMap": {},
     "title": ""
    },
    "colab": {
     "base_uri": "https://localhost:8080/"
    },
    "id": "aC3L1tx4813u",
    "outputId": "07b51447-f0c9-450f-ec09-29d1481e6410"
   },
   "outputs": [],
   "source": [
    "import requests\n",
    "import json\n",
    "\n",
    "# Lista para almacenar los datos de cada usuario\n",
    "usuarios = []\n",
    "# Hacer 5 peticiones a la API\n",
    "for i in range(5):\n",
    "    response = requests.get(\"https://randomuser.me/api/\")\n",
    "    if response.status_code == 200:\n",
    "        data = response.json()\n",
    "        usuarios.append(data['results'][0])  # Guardamos solo la info del usuario\n",
    "    else:\n",
    "        print(f\"Error en la petición {i+1}: {response.status_code}\")\n",
    "\n",
    "# Guardar los datos en un archivo JSON\n",
    "with open(f\"{output_path}/usuarios/usuarios.json\", \"w\", encoding=\"utf-8\") as f:\n",
    "    json.dump(usuarios, f, indent=2, ensure_ascii=False)\n",
    "\n",
    "print(\"✅ Archivo 'usuarios.json' creado con éxito.\")"
   ]
  },
  {
   "cell_type": "code",
   "execution_count": 0,
   "metadata": {
    "application/vnd.databricks.v1+cell": {
     "cellMetadata": {
      "byteLimit": 2048000,
      "rowLimit": 10000
     },
     "inputWidgets": {},
     "nuid": "899f40d3-0078-4f3d-b4dc-161ed43efa11",
     "showTitle": false,
     "tableResultSettingsMap": {},
     "title": ""
    },
    "colab": {
     "base_uri": "https://localhost:8080/"
    },
    "id": "CeQdxmNO9dhD",
    "outputId": "36c00b15-0a51-4be4-95ef-a13ad6be2622"
   },
   "outputs": [],
   "source": [
    "# Leer el archivo JSON (ubicado en raíz tras la carga)\n",
    "df_usuarios = spark.read.option(\"multiline\", \"true\").json(f\"{output_path}/usuarios/usuarios.json\")\n",
    "# Muestra el esquema del DataFrame\n",
    "df_usuarios.printSchema()\n",
    "df_contactos = df_usuarios.selectExpr(\n",
    "    \"id.value as _id\",\n",
    "    \"email as correo\",\n",
    "    \"gender as genero\",\n",
    "    \"login.username as usuario\",\n",
    "    \"name.first as nombre\",\n",
    "    \"name.last as apellido\",\n",
    "    \"phone as telefono\"\n",
    "    )\n",
    "df_contactos.show()\n",
    "# Escribe como TSV\n",
    "df_contactos.write\\\n",
    "      .mode(\"overwrite\")\\\n",
    "      .option(\"header\", True)\\\n",
    "      .option(\"delimiter\", \"|\")\\\n",
    "      .option(\"compression\", \"gzip\")\\\n",
    "      .csv(f\"{output_path}/contactos_flat\")\n",
    "print(\"Archivo plano generado\")\n",
    "# Escribe como parquet\n",
    "df_contactos.write\\\n",
    "      .mode(\"overwrite\")\\\n",
    "      .save(f\"{output_path}/contactos_parquet\")\n",
    "print(\"Archivo parquet generado\")\n",
    "# Lectura de parquet\n",
    "df = spark.read.parquet(f\"{output_path}/contactos_parquet\")\n",
    "df.show(3)"
   ]
  }
 ],
 "metadata": {
  "application/vnd.databricks.v1+notebook": {
   "computePreferences": null,
   "dashboards": [],
   "environmentMetadata": null,
   "inputWidgetPreferences": null,
   "language": "python",
   "notebookMetadata": {
    "pythonIndentUnit": 4
   },
   "notebookName": "Read_Write",
   "widgets": {}
  },
  "colab": {
   "provenance": []
  },
  "kernelspec": {
   "display_name": "Python 3",
   "name": "python3"
  },
  "language_info": {
   "name": "python"
  }
 },
 "nbformat": 4,
 "nbformat_minor": 0
}
