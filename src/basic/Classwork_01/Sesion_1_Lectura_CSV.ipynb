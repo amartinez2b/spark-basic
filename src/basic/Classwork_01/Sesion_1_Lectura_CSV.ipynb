{
 "cells": [
  {
   "cell_type": "code",
   "execution_count": 0,
   "metadata": {
    "application/vnd.databricks.v1+cell": {
     "cellMetadata": {
      "byteLimit": 2048000,
      "rowLimit": 10000
     },
     "inputWidgets": {},
     "nuid": "09141251-3bd4-49aa-bb55-79634c1808da",
     "showTitle": false,
     "tableResultSettingsMap": {},
     "title": ""
    },
    "colab": {
     "base_uri": "https://localhost:8080/"
    },
    "id": "l9Ydsein4k8L",
    "outputId": "a5ad69cd-116c-4c68-a819-e39077dd6cb7"
   },
   "outputs": [],
   "source": [
    "from pyspark.sql import SparkSession\n",
    "\n",
    "# Crear la sesión de Spark\n",
    "spark = SparkSession.builder \\\n",
    "    .appName(\"Lectura CSV - Sesión 1\") \\\n",
    "    .getOrCreate()\n",
    "\n",
    "# Leer el archivo CSV (ubicado en raíz tras la carga)\n",
    "df_clientes = spark.read.option(\"header\", \"true\").option(\"sep\",\";\").csv(\"resources/data/sales_model/facturas.csv\")\n",
    "\n",
    "# Mostrar las primeras filas\n",
    "df_clientes.show()\n",
    "\n",
    "# Ver el esquema\n",
    "df_clientes.printSchema()"
   ]
  }
 ],
 "metadata": {
  "application/vnd.databricks.v1+notebook": {
   "computePreferences": null,
   "dashboards": [],
   "environmentMetadata": null,
   "inputWidgetPreferences": null,
   "language": "python",
   "notebookMetadata": {
    "pythonIndentUnit": 4
   },
   "notebookName": "Sesion_1_Lectura_CSV",
   "widgets": {}
  },
  "colab": {
   "provenance": []
  },
  "kernelspec": {
   "display_name": "Python 3",
   "name": "python3"
  },
  "language_info": {
   "name": "python"
  }
 },
 "nbformat": 4,
 "nbformat_minor": 0
}
