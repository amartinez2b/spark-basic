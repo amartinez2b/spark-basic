{
 "cells": [
  {
   "cell_type": "markdown",
   "metadata": {
    "application/vnd.databricks.v1+cell": {
     "cellMetadata": {},
     "inputWidgets": {},
     "nuid": "ea5fe5ba-25f9-4dbf-804a-0e00fb03aa5e",
     "showTitle": false,
     "tableResultSettingsMap": {},
     "title": ""
    }
   },
   "source": [
    "# 📘 Sesión 9 — UDFs en PySpark: Ejercicio con datos ficticios\n",
    "\n",
    "En este ejercicio vamos a:\n",
    "\n",
    "- Generar un DataFrame con datos simulados (nombre, país, edad).\n",
    "- Crear **2 funciones UDF personalizadas**.\n",
    "- Aplicarlas sobre columnas del DataFrame para enriquecer y clasificar los datos."
   ]
  },
  {
   "cell_type": "code",
   "execution_count": 0,
   "metadata": {
    "application/vnd.databricks.v1+cell": {
     "cellMetadata": {
      "byteLimit": 2048000,
      "rowLimit": 10000
     },
     "inputWidgets": {},
     "nuid": "d39c235c-b7e2-47a0-aca3-f40c2db73abb",
     "showTitle": false,
     "tableResultSettingsMap": {},
     "title": ""
    }
   },
   "outputs": [],
   "source": [
    "from pyspark.sql.functions import udf\n",
    "from pyspark.sql.types import StringType, IntegerType\n",
    "import random\n",
    "\n",
    "# ------------------------------\n",
    "# 🔹 1. Crear datos ficticios\n",
    "# ------------------------------\n",
    "nombres = [\"Ana\", \"Luis\", \"Carlos\", \"Lucía\", \"María\", \"Pedro\", \"Sofía\", \"Miguel\"]\n",
    "paises = [\"Argentina\", \"Brasil\", \"Chile\", \"Perú\", \"Uruguay\", \"México\", \"Colombia\"]\n",
    "\n",
    "# Generar 10 registros aleatorios\n",
    "data = [(random.choice(nombres), random.choice(paises), random.randint(18, 60)) for _ in range(10)]\n",
    "df = spark.createDataFrame(data, [\"nombre\", \"pais\", \"edad\"])\n",
    "display(df)"
   ]
  },
  {
   "cell_type": "code",
   "execution_count": 0,
   "metadata": {
    "application/vnd.databricks.v1+cell": {
     "cellMetadata": {
      "byteLimit": 2048000,
      "rowLimit": 10000
     },
     "inputWidgets": {},
     "nuid": "72210f5c-6a24-4a96-8f3d-b3347a2d12f2",
     "showTitle": false,
     "tableResultSettingsMap": {},
     "title": ""
    }
   },
   "outputs": [],
   "source": [
    "# ------------------------------\n",
    "# 🔹 2. Definir funciones UDF\n",
    "# ------------------------------\n",
    "# UDF para abreviar el nombre del país (ej: \"Argentina\" → \"AR\")\n",
    "def abreviar_pais(pais):\n",
    "    return pais[:2].upper()\n",
    "\n",
    "# UDF para clasificar la edad\n",
    "def clasificar_edad(edad):\n",
    "    if edad < 25:\n",
    "        return \"Joven\"\n",
    "    elif edad < 45:\n",
    "        return \"Adulto\"\n",
    "    else:\n",
    "        return \"Senior\"\n",
    "\n",
    "# Registrar UDFs\n",
    "udf_abreviar = udf(abreviar_pais, StringType())\n",
    "udf_clasificar = udf(clasificar_edad, StringType())\n",
    "\n",
    "# ------------------------------\n",
    "# 🔹 3. Aplicar las UDFs\n",
    "# ------------------------------\n",
    "df_resultado = df.withColumn(\"pais_abrev\", udf_abreviar(\"pais\")) \\\n",
    "                 .withColumn(\"categoria_edad\", udf_clasificar(\"edad\"))\n",
    "\n",
    "# ------------------------------\n",
    "# 🔹 4. Mostrar resultados\n",
    "# ------------------------------\n",
    "df_resultado.show(truncate=False)"
   ]
  },
  {
   "cell_type": "markdown",
   "metadata": {
    "application/vnd.databricks.v1+cell": {
     "cellMetadata": {},
     "inputWidgets": {},
     "nuid": "69fc3061-de1f-4263-abd0-3fb39d90589e",
     "showTitle": false,
     "tableResultSettingsMap": {},
     "title": ""
    }
   },
   "source": [
    "# 📘 Sesión 9 — Ejercicio Práctico: Crear una UDF personalizada\n",
    "\n",
    "## 🎯 Objetivo\n",
    "\n",
    "Aprender a definir y aplicar una **User Defined Function (UDF)** en PySpark para categorizar datos personalizados dentro de un DataFrame.\n",
    "\n",
    "---\n",
    "\n",
    "## 🧱 Dataset simulado\n",
    "\n",
    "Trabajaremos con un conjunto de datos ficticios de **clientes y su nivel de gasto anual**:\n",
    "\n",
    "| clienteID | nombre  | país      | gasto_anual |\n",
    "|-----------|---------|-----------|-------------|\n",
    "| 1         | Ana     | Argentina | 850         |\n",
    "| 2         | Luis    | México    | 4500        |\n",
    "| 3         | Carla   | Chile     | 1700        |\n",
    "| 4         | Pedro   | Colombia  | 350         |\n",
    "| 5         | Sofía   | Perú      | 9200        |\n",
    "\n",
    "---\n",
    "\n",
    "## 🔧 Actividad\n",
    "\n",
    "### Pasos a seguir:\n",
    "\n",
    "1. Crear un **DataFrame** a partir de los datos anteriores.\n",
    "2. Definir una función Python que clasifique el `gasto_anual` en 3 niveles:\n",
    "   - `🟢 Bajo`: gasto menor a 1000\n",
    "   - `🟡 Medio`: entre 1000 y 4999\n",
    "   - `🔴 Alto`: 5000 o más\n",
    "3. Registrar esta función como una **UDF**.\n",
    "4. Aplicar la UDF sobre el DataFrame para crear una nueva columna `nivel_consumo`.\n",
    "5. Mostrar el resultado final.\n",
    "\n",
    "---\n",
    "\n",
    "## 🧠 Pista para la función\n",
    "\n",
    "```python\n",
    "def clasificar_consumo(gasto):\n",
    "    if gasto < 1000:\n",
    "        return \"🟢 Bajo\"\n",
    "    elif gasto < 5000:\n",
    "        return \"🟡 Medio\"\n",
    "    else:\n",
    "        return \"🔴 Alto\"\n",
    "```\n",
    "       "
   ]
  },
  {
   "cell_type": "code",
   "execution_count": 0,
   "metadata": {
    "application/vnd.databricks.v1+cell": {
     "cellMetadata": {},
     "inputWidgets": {},
     "nuid": "9a56907c-b72d-4a84-b313-f84fa7bc6e1d",
     "showTitle": false,
     "tableResultSettingsMap": {},
     "title": ""
    }
   },
   "outputs": [],
   "source": [
    "# Escribe tu codigo aqui"
   ]
  }
 ],
 "metadata": {
  "application/vnd.databricks.v1+notebook": {
   "computePreferences": null,
   "dashboards": [],
   "environmentMetadata": {
    "base_environment": "",
    "environment_version": "2"
   },
   "inputWidgetPreferences": null,
   "language": "python",
   "notebookMetadata": {
    "pythonIndentUnit": 4
   },
   "notebookName": "UDF_Functions",
   "widgets": {}
  },
  "language_info": {
   "name": "python"
  }
 },
 "nbformat": 4,
 "nbformat_minor": 0
}
