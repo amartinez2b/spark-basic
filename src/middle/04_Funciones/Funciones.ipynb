{
 "cells": [
  {
   "cell_type": "code",
   "execution_count": 0,
   "metadata": {
    "application/vnd.databricks.v1+cell": {
     "cellMetadata": {
      "byteLimit": 2048000,
      "rowLimit": 10000
     },
     "inputWidgets": {},
     "nuid": "a9758820-5991-4d85-b8b0-0b8680c007b4",
     "showTitle": false,
     "tableResultSettingsMap": {},
     "title": ""
    }
   },
   "outputs": [],
   "source": [
    "from pyspark.sql import SparkSession\n",
    "from pyspark.sql.window import Window\n",
    "from pyspark.sql.functions import row_number, rank, lag, lead, col\n",
    "# Crear un DataFrame con empates en los valores para mostrar diferencia entre row_number y rank\n",
    "data = [\n",
    "    (\"Alice\", \"Electrónica\", 500),\n",
    "    (\"Alice\", \"Electrónica\", 500),\n",
    "    (\"Alice\", \"Electrónica\", 300),\n",
    "    (\"Bob\", \"Electrónica\", 400),\n",
    "    (\"Bob\", \"Electrónica\", 400),\n",
    "    (\"Bob\", \"Electrónica\", 200),\n",
    "    (\"Carol\", \"Moda\", 250),\n",
    "    (\"Carol\", \"Moda\", 250),\n",
    "    (\"Carol\", \"Moda\", 100),\n",
    "]\n",
    "\n",
    "columns = [\"cliente\", \"categoria\", \"monto\"]\n",
    "df = spark.createDataFrame(data, columns)\n",
    "\n",
    "# Definir la ventana particionada por cliente y ordenada por monto descendente\n",
    "window_spec = Window.partitionBy(\"cliente\").orderBy(col(\"monto\").desc())\n",
    "\n",
    "# Aplicar funciones de ventana\n",
    "df_window = df.withColumn(\"row_number\", row_number().over(window_spec)) \\\n",
    "              .withColumn(\"rank\", rank().over(window_spec)) \\\n",
    "              .withColumn(\"lag_monto\", lag(\"monto\", 1).over(window_spec)) \\\n",
    "              .withColumn(\"lead_monto\", lead(\"monto\", 1).over(window_spec))\n",
    "\n",
    "# Mostrar resultados\n",
    "df_window.show()"
   ]
  },
  {
   "cell_type": "markdown",
   "metadata": {
    "application/vnd.databricks.v1+cell": {
     "cellMetadata": {},
     "inputWidgets": {},
     "nuid": "46866f76-1b8d-4719-94b9-86c1b7e9d941",
     "showTitle": false,
     "tableResultSettingsMap": {},
     "title": ""
    }
   },
   "source": [
    "# 🧪 Ejercicio – Análisis de Facturación con Funciones de Ventana\n",
    "\n",
    "## 🎯 Objetivo\n",
    "\n",
    "Aplicar funciones de ventana en PySpark para analizar el comportamiento de facturación de los clientes a lo largo del tiempo, dentro de cada categoría de producto.\n",
    "\n",
    "---\n",
    "\n",
    "## 📝 Dataset de entrada\n",
    "\n",
    "Trabajaremos con una tabla llamada `facturacion` que tiene la siguiente estructura:\n",
    "\n",
    "| cliente_id | cliente_nombre   | categoria     | fecha_factura | monto  |\n",
    "|------------|------------------|---------------|----------------|--------|\n",
    "| 2824       | Donald Walker    | Deportes      | 2024-10-28     | 623.75 |\n",
    "| 9935       | Javier Johnson   | Electrónica   | 2023-04-09     | 98.88  |\n",
    "| 9279       | Kristina Baldwin | Libros        | 2024-09-19     | 283.35 |\n",
    "| 7873       | Kevin Pacheco    | Libros        | 2022-08-20     | 171.26 |\n",
    "| 3615       | Gina Moore       | Electrónica   | 2025-06-27     | 358.62 |\n",
    "\n",
    "La tabla contiene información de facturas por cliente, categoría de producto y fecha.\n",
    "\n",
    "---\n",
    "\n",
    "## 🛠 Actividades\n",
    "\n",
    "### 1️⃣ Numerar las compras por cliente\n",
    "\n",
    "Usa `row_number()` para asignar un número secuencial a cada compra realizada por cada cliente, ordenadas por `fecha_factura` descendente.\n",
    "\n",
    "\n",
    "---\n",
    "\n",
    "### 2️⃣ Rankear compras por monto\n",
    "\n",
    "Usa `rank()` para asignar una posición de ranking a cada compra de cada cliente, en función del `monto`, de mayor a menor.\n",
    "\n",
    "\n",
    "---\n",
    "\n",
    "### 3️⃣ Ventas por mes y comparación con el mes anterior\n",
    "\n",
    "1. Extrae el mes con `trunc(\"fecha_factura\", \"month\")`.\n",
    "2. Agrupa las facturas por mes y sumá el total facturado.\n",
    "3. Usa `lag()` para obtener las ventas del mes anterior.\n",
    "\n",
    "\n",
    "---\n",
    "\n",
    "## 📂 Entrega\n",
    "\n",
    "Sube un notebook `.ipynb` o script `.py` con:\n",
    "- El código de cada parte del ejercicio.\n",
    "- Resultados visibles usando `.show()` (mínimo 10 filas por paso).\n",
    "- Comentarios explicativos del código.\n",
    "\n",
    "---\n",
    "\n",
    "## ✅ Criterios de evaluación\n",
    "\n",
    "- ✔ Uso correcto de `row_number`, `rank`, `lag`.\n",
    "- ✔ Agrupación mensual correcta con `trunc()` y `groupBy()`.\n",
    "- ✔ Código funcional, ordenado y comentado.\n",
    "- ✔ Resultados claros y correctamente interpretados.\n",
    "\n",
    "---\n",
    "\n",
    "💡 *Este ejercicio combina análisis de comportamiento de compra por cliente y análisis temporal de facturación mensual, aplicando funciones clave de PySpark para trabajos analíticos avanzados.*\n"
   ]
  }
 ],
 "metadata": {
  "application/vnd.databricks.v1+notebook": {
   "computePreferences": null,
   "dashboards": [],
   "environmentMetadata": {
    "base_environment": "",
    "environment_version": "2"
   },
   "inputWidgetPreferences": null,
   "language": "python",
   "notebookMetadata": {
    "pythonIndentUnit": 4
   },
   "notebookName": "Funciones",
   "widgets": {}
  },
  "language_info": {
   "name": "python"
  }
 },
 "nbformat": 4,
 "nbformat_minor": 0
}
