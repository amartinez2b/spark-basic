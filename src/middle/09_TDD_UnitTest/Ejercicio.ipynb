{
 "cells": [
  {
   "cell_type": "markdown",
   "metadata": {
    "application/vnd.databricks.v1+cell": {
     "cellMetadata": {},
     "inputWidgets": {},
     "nuid": "9d60a8bf-a7d2-4463-8a99-498b8008b24a",
     "showTitle": false,
     "tableResultSettingsMap": {},
     "title": ""
    }
   },
   "source": [
    "📘 Ejercicio – Refactorización de script con TDD y pruebas en PySpark\n",
    "¡Hola equipo! 👋\n",
    "\n",
    "En esta actividad vamos a aplicar todo lo aprendido sobre buenas prácticas de desarrollo, refactorizando un script real de PySpark para convertirlo en un proyecto estructurado con TDD (Test-Driven Development) y pruebas automatizadas.\n",
    "\n",
    "🧪 Punto de partida\n",
    "\n",
    "📄 El script que vamos a transformar está disponible en el siguiente repositorio:\n",
    "\n",
    "🔗 lab-06-basic-types.py (GitHub)\n",
    "https://github.com/asatrya/pyspark-labs/blob/master/lab-06-basic-types.py\n",
    "\n",
    "Este archivo contiene ejemplos de manejo de tipos básicos en PySpark: StringType, BooleanType, DateType, TimestampType, DecimalType, entre otros.\n",
    "\n",
    "🛠 ¿Qué vas a hacer?\n",
    "\n",
    "🔧 Parte 1: Modularización\n",
    "Crear un archivo Python llamado tipos_basicos.py\n",
    "Dentro de ese archivo, separar cada sección del script como una función reutilizable. Por ejemplo:\n",
    "crear_dataframe_string()\n",
    "crear_dataframe_boolean()\n",
    "crear_dataframe_fecha()\n",
    "Cada función debe retornar un DataFrame con una estructura definida.\n",
    "\n",
    "🧪 Parte 2: Pruebas unitarias\n",
    "\n",
    "Crear un archivo llamado test_tipos_basicos.py\n",
    "\n",
    "Por cada función del módulo, escribir al menos una prueba que verifique:\n",
    "Que el DataFrame se crea correctamente\n",
    "Que los tipos de columnas son los esperados\n",
    "Que la cantidad de registros es correcta\n",
    "Puedes usar assert, pytest o cualquier framework de testing compatible\n",
    "\n",
    "📂 Entrega esperada\n",
    "\n",
    "Tu proyecto debe estar organizado de esta manera:\n",
    "\n",
    "```sh\n",
    "/tdd-tipos-basicos/\n",
    "├── tipos_basicos.py            # Módulo con funciones reutilizables\n",
    "├── test_tipos_basicos.py       # Archivo de pruebas unitarias\n",
    "└── README.md                   # (opcional) Descripción breve del ejercicio\n",
    "```"
   ]
  }
 ],
 "metadata": {
  "application/vnd.databricks.v1+notebook": {
   "computePreferences": null,
   "dashboards": [],
   "environmentMetadata": {
    "base_environment": "",
    "environment_version": "3"
   },
   "inputWidgetPreferences": null,
   "language": "python",
   "notebookMetadata": {
    "pythonIndentUnit": 4
   },
   "notebookName": "Ejercicio",
   "widgets": {}
  },
  "language_info": {
   "name": "python"
  }
 },
 "nbformat": 4,
 "nbformat_minor": 0
}
