{
 "cells": [
  {
   "cell_type": "code",
   "execution_count": 0,
   "metadata": {
    "application/vnd.databricks.v1+cell": {
     "cellMetadata": {
      "byteLimit": 2048000,
      "rowLimit": 10000
     },
     "inputWidgets": {},
     "nuid": "d4a2abd5-9cc8-482c-b196-84ae801f87d0",
     "showTitle": false,
     "tableResultSettingsMap": {},
     "title": ""
    }
   },
   "outputs": [],
   "source": [
    "from pyspark.sql import SparkSession\n",
    "from pyspark.sql.functions import rand, col, count\n",
    "from pyspark import StorageLevel\n",
    "import time\n",
    "\n",
    "\n",
    "# Crear un DataFrame de ejemplo\n",
    "df = spark.range(0, 10_000_000).withColumn(\"valor\", (rand() * 1000).cast(\"int\"))\n",
    "df_filtrado = df.filter(col(\"valor\") > 500)\n",
    "\n",
    "# Sin cache/persist - Primera acción\n",
    "start = time.time()\n",
    "df_filtrado.select(\"valor\").groupBy(\"valor\").agg(count(\"*\")).count()\n",
    "end = time.time()\n",
    "print(f\"Tiempo SIN cache/persist: {end - start:.2f} segundos\")\n",
    "\n",
    "# Con cache\n",
    "df_cache = df.filter(col(\"valor\") > 500).cache()\n",
    "\n",
    "# Acción para activar la cache\n",
    "df_cache.count()\n",
    "\n",
    "# Repetir una acción sobre el mismo DataFrame\n",
    "start = time.time()\n",
    "df_cache.select(\"valor\").groupBy(\"valor\").agg(count(\"*\")).count()\n",
    "end = time.time()\n",
    "print(f\"Tiempo CON cache: {end - start:.2f} segundos\")\n",
    "\n",
    "# Liberar memoria\n",
    "df_cache.unpersist()\n",
    "\n",
    "# Con persist (solo memoria)\n",
    "df_persist = df.filter(col(\"valor\") > 500).persist(StorageLevel.MEMORY_ONLY)\n",
    "\n",
    "# Acción para activar la persistencia\n",
    "df_persist.count()\n",
    "\n",
    "# Repetir otra acción\n",
    "start = time.time()\n",
    "df_persist.select(\"valor\").groupBy(\"valor\").agg(count(\"*\")).count()\n",
    "end = time.time()\n",
    "print(f\"Tiempo CON persistencia (MEMORY_ONLY): {end - start:.2f} segundos\")\n",
    "\n",
    "# Finalizar\n",
    "df_persist.unpersist()\n"
   ]
  },
  {
   "cell_type": "markdown",
   "metadata": {
    "application/vnd.databricks.v1+cell": {
     "cellMetadata": {},
     "inputWidgets": {},
     "nuid": "a89ec5b6-35a7-4c49-aa3c-de044140aab9",
     "showTitle": false,
     "tableResultSettingsMap": {},
     "title": ""
    }
   },
   "source": [
    "# 🧪 Ejercicio Práctico – Join y Persistencia en PySpark\n",
    "\n",
    "## 🎯 Objetivo\n",
    "Aplicar conceptos de joins entre múltiples tablas y explorar el impacto en el rendimiento al utilizar `cache()` y `persist()`.\n",
    "\n",
    "---\n",
    "\n",
    "## 📝 Instrucciones\n",
    "\n",
    "### 1️⃣ Cargar las tablas del catálogo TPCH\n",
    "Utilizá las siguientes tablas disponibles en Databricks:\n",
    "- `samples.tpch.customer`\n",
    "- `samples.tpch.nation`\n",
    "- `samples.tpch.region`\n",
    "\n",
    "### 2️⃣ Realizar joins\n",
    "Uní las tres tablas siguiendo estas condiciones:\n",
    "- `customer` → `nation` usando `c_nationkey == n_nationkey`\n",
    "- `nation` → `region` usando `n_regionkey == r_regionkey`\n",
    "\n",
    "Aplicá un **filtro** para quedarte solo con los clientes cuya región sea **'AMERICA'**.\n",
    "\n",
    "```python\n",
    "df_customer = spark.table(\"samples.tpch.customer\")\n",
    "df_nation = spark.table(\"samples.tpch.nation\")\n",
    "df_region = spark.table(\"samples.tpch.region\")\n",
    "```\n",
    "\n",
    "---\n",
    "\n",
    "### 3️⃣ Medir tiempo sin persistencia\n",
    "\n",
    "---\n",
    "\n",
    "### 4️⃣ Medir tiempo usando `cache()`\n",
    "\n",
    "---\n",
    "\n",
    "### 5️⃣ Medir tiempo usando `persist()`\n",
    "\n",
    "---\n",
    "\n",
    "## 📂 Entrega\n",
    "\n",
    "Subí un notebook `.ipynb` o script `.py` con:\n",
    "- El código completo\n",
    "- Los tiempos registrados\n",
    "- Una breve reflexión comparando `cache()` y `persist()`\n",
    "\n",
    "---\n",
    "\n",
    "## ✅ Criterios de evaluación\n",
    "\n",
    "- ✔ Correcta aplicación de joins y filtros\n",
    "- ✔ Uso adecuado de `cache()` y `persist()`\n",
    "- ✔ Medición de tiempos clara\n",
    "- ✔ Análisis final con observaciones propias\n",
    "\n",
    "---\n",
    "\n",
    "💡 *Tip:* Asegurate de que el clúster esté activo y no saturado para obtener mediciones consistentes.\n"
   ]
  },
  {
   "cell_type": "code",
   "execution_count": 0,
   "metadata": {
    "application/vnd.databricks.v1+cell": {
     "cellMetadata": {},
     "inputWidgets": {},
     "nuid": "57304456-89df-42e0-a67c-d64da1345108",
     "showTitle": false,
     "tableResultSettingsMap": {},
     "title": ""
    }
   },
   "outputs": [],
   "source": []
  }
 ],
 "metadata": {
  "application/vnd.databricks.v1+notebook": {
   "computePreferences": null,
   "dashboards": [],
   "environmentMetadata": {
    "base_environment": "",
    "environment_version": "2"
   },
   "inputWidgetPreferences": null,
   "language": "python",
   "notebookMetadata": {
    "pythonIndentUnit": 4
   },
   "notebookName": "Cache_Persist",
   "widgets": {}
  },
  "language_info": {
   "name": "python"
  }
 },
 "nbformat": 4,
 "nbformat_minor": 0
}
