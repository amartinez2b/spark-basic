{
 "cells": [
  {
   "cell_type": "code",
   "execution_count": 0,
   "metadata": {
    "application/vnd.databricks.v1+cell": {
     "cellMetadata": {
      "byteLimit": 2048000,
      "rowLimit": 10000
     },
     "inputWidgets": {},
     "nuid": "f54a1c2c-000a-4a94-8f2f-b7769c8956f7",
     "showTitle": false,
     "tableResultSettingsMap": {},
     "title": ""
    }
   },
   "outputs": [],
   "source": [
    "!pip install faker"
   ]
  },
  {
   "cell_type": "code",
   "execution_count": 0,
   "metadata": {
    "application/vnd.databricks.v1+cell": {
     "cellMetadata": {
      "byteLimit": 2048000,
      "rowLimit": 10000
     },
     "inputWidgets": {},
     "nuid": "b6996508-672d-4b6a-af0b-8766d3ea1a44",
     "showTitle": false,
     "tableResultSettingsMap": {},
     "title": ""
    }
   },
   "outputs": [],
   "source": [
    "from pyspark.sql import SparkSession\n",
    "from pyspark.sql.functions import col\n",
    "from faker import Faker\n",
    "import pandas as pd\n",
    "import random\n",
    "\n",
    "# =====================\n",
    "# Parámetros\n",
    "# =====================\n",
    "NUM_CLIENTES = 3000\n",
    "NUM_FACTURAS = 1000000\n",
    "TABLA_CLIENTES = \"clientes\"\n",
    "TABLA_FACTURACION = \"facturacion\"\n",
    "\n",
    "# =====================\n",
    "# Inicializar Faker\n",
    "# =====================\n",
    "fake = Faker()\n",
    "Faker.seed(42)\n",
    "\n",
    "# =====================\n",
    "# Generar DataFrame de clientes\n",
    "# =====================\n",
    "clientes_data = []\n",
    "cliente_ids = set()\n",
    "\n",
    "while len(cliente_ids) < NUM_CLIENTES:\n",
    "    cid = fake.unique.random_int(min=1000, max=9999)\n",
    "    cliente_ids.add(cid)\n",
    "\n",
    "for cid in cliente_ids:\n",
    "    cliente_nombre = fake.name()\n",
    "    clientes_data.append((cid, cliente_nombre))\n",
    "\n",
    "clientes_df = pd.DataFrame(clientes_data, columns=[\"cliente_id\", \"cliente_nombre\"])\n",
    "\n",
    "# =====================\n",
    "# Generar DataFrame de facturación\n",
    "# =====================\n",
    "facturacion_data = []\n",
    "\n",
    "cliente_id_list = list(cliente_ids)\n",
    "for _ in range(NUM_FACTURAS):\n",
    "    cliente_id = random.choice(cliente_id_list)\n",
    "    categoria = random.choice([\"Electrónica\", \"Moda\", \"Hogar\", \"Deportes\", \"Libros\"])\n",
    "    fecha_factura = fake.date_between(start_date='-3y', end_date='today')\n",
    "    monto = round(random.uniform(10, 1000), 2)\n",
    "    facturacion_data.append((cliente_id, categoria, fecha_factura, monto))\n",
    "\n",
    "facturacion_df = pd.DataFrame(facturacion_data, columns=[\"cliente_id\", \"categoria\", \"fecha_factura\", \"monto\"])\n",
    "\n",
    "# =====================\n",
    "# Convertir a DataFrames de Spark\n",
    "# =====================\n",
    "df_clientes = spark.createDataFrame(clientes_df)\n",
    "df_facturacion = spark.createDataFrame(facturacion_df)\n",
    "\n",
    "df = df_clientes.join(df_facturacion, on=\"cliente_id\", how=\"inner\")\n",
    "df.write.mode(\"overwrite\").saveAsTable(TABLA_FACTURACION)"
   ]
  },
  {
   "cell_type": "code",
   "execution_count": 0,
   "metadata": {
    "application/vnd.databricks.v1+cell": {
     "cellMetadata": {
      "byteLimit": 2048000,
      "rowLimit": 10000
     },
     "inputWidgets": {},
     "nuid": "46d1b56f-a1bb-4c6f-9e4b-c3ad9a767316",
     "showTitle": false,
     "tableResultSettingsMap": {},
     "title": ""
    }
   },
   "outputs": [],
   "source": [
    "from pyspark.sql import SparkSession\n",
    "from faker import Faker\n",
    "import pandas as pd\n",
    "import random\n",
    "\n",
    "# =====================\n",
    "# Parámetros\n",
    "# =====================\n",
    "NUM_REGISTROS = 100000\n",
    "\n",
    "faker = Faker()\n",
    "Faker.seed(123)\n",
    "\n",
    "# =====================\n",
    "# Generar datos con errores\n",
    "# =====================\n",
    "data = []\n",
    "for _ in range(NUM_REGISTROS):\n",
    "    nombre = faker.name()\n",
    "    # 15% chance de nulo\n",
    "    email = faker.email() if random.random() > 0.15 else None\n",
    "    # 15% chance de string vacío\n",
    "    telefono = faker.phone_number() if random.random() > 0.15 else \"\"\n",
    "    # 15% chance de nulo\n",
    "    direccion = faker.address().replace(\"\\n\", \", \") if random.random() > 0.15 else None\n",
    "    data.append((nombre, email, telefono, direccion))\n",
    "# Agregar 5 registros duplicados\n",
    "data += random.choices(data, k=5)\n",
    "# =====================\n",
    "# Crear DataFrame de Pandas y luego en Spark\n",
    "# =====================\n",
    "pdf = pd.DataFrame(data, columns=[\"nombre\", \"email\", \"telefono\", \"direccion\"])\n",
    "df = spark.createDataFrame(pdf)\n",
    "# =====================\n",
    "# Mostrar resultados\n",
    "# =====================\n",
    "# Opcional: Guardar como tabla o archivo\n",
    "df.write.mode(\"overwrite\").saveAsTable(\"cliente\")"
   ]
  }
 ],
 "metadata": {
  "application/vnd.databricks.v1+notebook": {
   "computePreferences": null,
   "dashboards": [],
   "environmentMetadata": {
    "base_environment": "",
    "environment_version": "2"
   },
   "inputWidgetPreferences": null,
   "language": "python",
   "notebookMetadata": {
    "mostRecentlyExecutedCommandWithImplicitDF": {
     "commandId": 4925528373602445,
     "dataframes": [
      "_sqldf"
     ]
    },
    "pythonIndentUnit": 4
   },
   "notebookName": "GenData",
   "widgets": {}
  },
  "language_info": {
   "name": "python"
  }
 },
 "nbformat": 4,
 "nbformat_minor": 0
}
