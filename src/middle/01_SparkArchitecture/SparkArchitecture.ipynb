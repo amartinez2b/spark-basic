{
 "cells": [
  {
   "cell_type": "code",
   "execution_count": 0,
   "metadata": {
    "application/vnd.databricks.v1+cell": {
     "cellMetadata": {
      "byteLimit": 2048000,
      "rowLimit": 10000
     },
     "inputWidgets": {},
     "nuid": "6ce5b70e-19a3-43d6-bcd6-ea9447c41c7b",
     "showTitle": false,
     "tableResultSettingsMap": {},
     "title": ""
    }
   },
   "outputs": [],
   "source": [
    "from pyspark.sql import SparkSession\n",
    "from pyspark.sql.functions import col, explode, split, rand\n",
    "import time\n",
    "\n",
    "# Generar un DataFrame grande de prueba con datos aleatorios\n",
    "# Aproximadamente 10 millones de filas\n",
    "df = spark.range(0, 10_000_000).withColumn(\"valor\", (rand() * 1000).cast(\"int\"))\n",
    "\n",
    "# Simular una carga de trabajo que genere múltiples stages y dure unos minutos\n",
    "# Paso 1: Aplicar transformaciones que generen un shuffle (como groupBy)\n",
    "df_filtrado = df.filter(col(\"valor\") > 100)\n",
    "df_transformado = df_filtrado.withColumn(\"categoria\", col(\"valor\") % 10)\n",
    "df_agrupado = df_transformado.groupBy(\"categoria\").count()\n",
    "\n",
    "# Paso 2: Unión con otro DataFrame para forzar otra etapa\n",
    "df_extra = spark.range(0, 10).withColumnRenamed(\"id\", \"categoria\")\n",
    "df_final = df_agrupado.join(df_extra, on=\"categoria\", how=\"inner\")\n",
    "\n",
    "# Paso 3: Escritura en memoria para forzar ejecución\n",
    "df_final.persist()\n",
    "df_final.count()\n",
    "\n",
    "# Pausa artificial para mantener la aplicación activa y permitir visualización del DAG\n",
    "print(\"Esperando 5 minutos para observación del DAG en Spark UI...\")\n",
    "time.sleep(300)\n"
   ]
  }
 ],
 "metadata": {
  "application/vnd.databricks.v1+notebook": {
   "computePreferences": null,
   "dashboards": [],
   "environmentMetadata": {
    "base_environment": "",
    "environment_version": "2"
   },
   "inputWidgetPreferences": null,
   "language": "python",
   "notebookMetadata": {
    "pythonIndentUnit": 4
   },
   "notebookName": "SparkArchitecture",
   "widgets": {}
  },
  "language_info": {
   "name": "python"
  }
 },
 "nbformat": 4,
 "nbformat_minor": 0
}
