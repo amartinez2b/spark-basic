{
 "cells": [
  {
   "cell_type": "code",
   "execution_count": 0,
   "metadata": {
    "application/vnd.databricks.v1+cell": {
     "cellMetadata": {
      "byteLimit": 2048000,
      "rowLimit": 10000
     },
     "inputWidgets": {},
     "nuid": "5661b715-2c61-4d6a-81a3-4b3e6d7b2d33",
     "showTitle": false,
     "tableResultSettingsMap": {},
     "title": ""
    },
    "colab": {
     "base_uri": "https://localhost:8080/"
    },
    "id": "Dfqk8fWO_TRd",
    "outputId": "fce0f03a-c62d-4e5c-c81c-8afc48f92677"
   },
   "outputs": [],
   "source": [
    "from pyspark.sql import SparkSession\n",
    "\n",
    "# =====================\n",
    "# Parámetros de conexión\n",
    "# =====================\n",
    "\n",
    "# MySQL\n",
    "MYSQL_HOST=\"www.bigdataybi.com\"\n",
    "MYSQL_DB=\"fake\"\n",
    "MYSQL_USER=\"curso\"\n",
    "MYSQL_PASSWORD=\"TuPasswordSeguro123\"\n",
    "mysql_url = f\"jdbc:mysql://{MYSQL_HOST}:3306/{MYSQL_DB}\"\n",
    "mysql_properties = {\n",
    "    \"user\": MYSQL_USER,\n",
    "    \"password\": MYSQL_PASSWORD\n",
    "}\n",
    "mysql_table = \"shops\"\n",
    "\n",
    "# PostgreSQL\n",
    "POSTGRES_HOST=\"pg.pg4e.com\"\n",
    "POSTGRES_DB=\"pg4e_30d815e518\"\n",
    "POSTGRES_USER=\"pg4e_30d815e518\"\n",
    "POSTGRES_PASSWORD=\"pg4e_p_e10b6240912ec67\"\n",
    "pg_url = f\"jdbc:postgresql://{POSTGRES_HOST}:5432/{POSTGRES_DB}\"\n",
    "pg_properties = {\n",
    "    \"user\": POSTGRES_USER,\n",
    "    \"password\": POSTGRES_PASSWORD\n",
    "}\n",
    "pg_table = \"shops_amartinez\"\n",
    "\n",
    "# =====================\n",
    "# Leer desde MySQL\n",
    "# =====================\n",
    "df_mysql = spark.read.jdbc(\n",
    "    url=mysql_url,\n",
    "    table=mysql_table,\n",
    "    properties=mysql_properties\n",
    ")\n",
    "\n",
    "print(\"✅ Datos leídos desde MySQL:\")\n",
    "df_mysql.show(5)\n",
    "\n",
    "# =====================\n",
    "# Escribir en PostgreSQL\n",
    "# =====================\n",
    "df_mysql.write \\\n",
    "    .mode(\"overwrite\") \\\n",
    "    .jdbc(url=pg_url, table=pg_table, properties=pg_properties)\n",
    "\n",
    "print(\"📦 Datos escritos exitosamente en PostgreSQL.\")\n",
    "\n",
    "# =====================\n",
    "# Escribir en HiveMetastore\n",
    "# =====================\n",
    "# Si estas en Databricks puedes escribir en Hive Metastore\n",
    "df_mysql.write.mode(\"overwrite\").format(\"parquet\").saveAsTable(\"default.comercial_amartinez\")"
   ]
  },
  {
   "cell_type": "markdown",
   "metadata": {
    "application/vnd.databricks.v1+cell": {
     "cellMetadata": {
      "byteLimit": 2048000,
      "rowLimit": 10000
     },
     "inputWidgets": {},
     "nuid": "e1fdbb5c-50cb-4c3e-99ae-447ce9b440e7",
     "showTitle": false,
     "tableResultSettingsMap": {},
     "title": ""
    },
    "id": "uyWVmekfEH6v"
   },
   "source": [
    "# 🚀 Ejercicio Práctico – Análisis Comercial con PySpark, MySQL y PostgreSQL\n",
    "\n",
    "## 🎯 Objetivo\n",
    "\n",
    "Conectar PySpark a una base de datos **MySQL**, leer múltiples tablas relacionadas entre sí, transformarlas mediante **joins**, y finalmente **escribir el resultado en PostgreSQL**. El ejercicio simula un escenario real de análisis de ventas en una empresa comercial.\n",
    "\n",
    "---\n",
    "\n",
    "## 🧱 Modelo de Datos\n",
    "\n",
    "Se trabajará sobre las siguientes **4 tablas** ubicadas en MySQL (ver modelo ER adjunto):\n",
    "\n",
    "- **`customers`**: contiene información personal de los clientes.  \n",
    "- **`products`**: catálogo de productos disponibles.  \n",
    "- **`shops`**: detalles de sucursales y su ubicación.  \n",
    "- **`sales`**: tabla de hechos de ventas, relacionada con las otras tres.\n",
    "\n",
    "Relaciones:\n",
    "- `sales.cod_cliente` → `customers.id_cliente`  \n",
    "- `sales.cod_producto` → `products.id_producto`  \n",
    "- `sales.cod_sucursal` → `shops.id_sucursal`\n",
    "\n",
    "---\n",
    "\n",
    "## 🛠 Actividades\n",
    "\n",
    "### 1. Lectura de tablas desde MySQL\n",
    "\n",
    "Conectar a MySQL usando el conector JDBC y leer las siguientes tablas en PySpark:\n",
    "\n",
    "- `customers`\n",
    "- `products`\n",
    "- `shops`\n",
    "- `sales`\n",
    "\n",
    "```python\n",
    "df_customers = spark.read.jdbc(...)\n",
    "df_products = spark.read.jdbc(...)\n",
    "df_shops = spark.read.jdbc(...)\n",
    "df_sales = spark.read.jdbc(...)\n",
    "```\n",
    "\n",
    "### 2. Realiza los joins\n",
    "\n",
    "### 3. Seleccionar columnas relevantes\n",
    "\n",
    "Seleccionar las siguientes columnas para la tabla final:\n",
    "\t•\tcustomers.nombre\n",
    "\t•\tcustomers.email\n",
    "\t•\tproducts.nombre_producto\n",
    "\t•\tproducts.marca\n",
    "\t•\tshops.nombre_sucursal\n",
    "\t•\tshops.ciudad\n",
    "\t•\tsales.fecha_venta\n",
    "\t•\tsales.cantidad\n",
    "\t•\tsales.precio_unitario\n",
    "\t•\tTotal de venta (cantidad * precio_unitario)\n",
    "\n",
    "### 4. Escritura en Postgres\n",
    "\n",
    "La tabla debe llamarse \"comercial_<usuario>\"\n",
    "\n",
    "### 📂 Entrega esperada\n",
    "\t•\tScript .py o notebook .ipynb\n",
    "\t•\tConexión a ambas bases de datos\n",
    "\t•\tTransformación correcta mediante joins\n",
    "\t•\tTabla final escrita en PostgreSQL\n",
    "\t•\tEjemplo del resultado con .show()\n",
    "\t•\tComentarios explicativos"
   ]
  },
  {
   "cell_type": "code",
   "execution_count": 0,
   "metadata": {
    "application/vnd.databricks.v1+cell": {
     "cellMetadata": {
      "byteLimit": 2048000,
      "rowLimit": 10000
     },
     "inputWidgets": {},
     "nuid": "862f3364-2586-4606-b1ee-5606cccec810",
     "showTitle": false,
     "tableResultSettingsMap": {},
     "title": ""
    },
    "id": "OFTM9XjOEiqh"
   },
   "outputs": [],
   "source": [
    "# Escribe aqui tu codigo"
   ]
  }
 ],
 "metadata": {
  "application/vnd.databricks.v1+notebook": {
   "computePreferences": null,
   "dashboards": [],
   "environmentMetadata": null,
   "inputWidgetPreferences": null,
   "language": "python",
   "notebookMetadata": {
    "mostRecentlyExecutedCommandWithImplicitDF": {
     "commandId": 4965104636827924,
     "dataframes": [
      "_sqldf"
     ]
    },
    "pythonIndentUnit": 4
   },
   "notebookName": "Mysql_to_Postgres",
   "widgets": {}
  },
  "colab": {
   "provenance": []
  },
  "kernelspec": {
   "display_name": "Python 3",
   "name": "python3"
  },
  "language_info": {
   "name": "python"
  }
 },
 "nbformat": 4,
 "nbformat_minor": 0
}
