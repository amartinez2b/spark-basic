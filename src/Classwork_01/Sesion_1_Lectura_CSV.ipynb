{
 "cells": [
  {
   "cell_type": "code",
   "execution_count": 0,
   "metadata": {
    "application/vnd.databricks.v1+cell": {
     "cellMetadata": {},
     "inputWidgets": {},
     "nuid": "d86f2cab-b32a-42ad-945a-7147f3f9d453",
     "showTitle": false,
     "tableResultSettingsMap": {},
     "title": ""
    },
    "colab": {
     "base_uri": "https://localhost:8080/"
    },
    "id": "JUuFQw9t3ibO",
    "outputId": "64691c26-2ed1-4dd7-ce70-6b06da8078e0"
   },
   "outputs": [],
   "source": [
    "!pip install pyspark"
   ]
  },
  {
   "cell_type": "code",
   "execution_count": 0,
   "metadata": {
    "application/vnd.databricks.v1+cell": {
     "cellMetadata": {},
     "inputWidgets": {},
     "nuid": "09141251-3bd4-49aa-bb55-79634c1808da",
     "showTitle": false,
     "tableResultSettingsMap": {},
     "title": ""
    },
    "colab": {
     "base_uri": "https://localhost:8080/"
    },
    "id": "l9Ydsein4k8L",
    "outputId": "a5ad69cd-116c-4c68-a819-e39077dd6cb7"
   },
   "outputs": [],
   "source": [
    "from pyspark.sql import SparkSession\n",
    "\n",
    "# Crear la sesión de Spark\n",
    "spark = SparkSession.builder \\\n",
    "    .appName(\"Lectura CSV - Sesión 1\") \\\n",
    "    .getOrCreate()\n",
    "\n",
    "# Leer el archivo CSV (ubicado en raíz tras la carga)\n",
    "df_clientes = spark.read.option(\"header\", \"true\").option(\"sep\",\";\").csv(\"/content/sample_data/clientes.csv\")\n",
    "\n",
    "# Mostrar las primeras filas\n",
    "df_clientes.show()\n",
    "\n",
    "# Ver el esquema\n",
    "df_clientes.printSchema()"
   ]
  }
 ],
 "metadata": {
  "application/vnd.databricks.v1+notebook": {
   "computePreferences": null,
   "dashboards": [],
   "environmentMetadata": null,
   "inputWidgetPreferences": null,
   "language": "python",
   "notebookMetadata": {
    "pythonIndentUnit": 4
   },
   "notebookName": "Sesion_1_Lectura_CSV",
   "widgets": {}
  },
  "colab": {
   "provenance": []
  },
  "kernelspec": {
   "display_name": "Python 3",
   "name": "python3"
  },
  "language_info": {
   "name": "python"
  }
 },
 "nbformat": 4,
 "nbformat_minor": 0
}
