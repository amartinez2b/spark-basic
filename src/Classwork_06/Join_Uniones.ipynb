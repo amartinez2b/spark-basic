{
 "cells": [
  {
   "cell_type": "markdown",
   "metadata": {
    "application/vnd.databricks.v1+cell": {
     "cellMetadata": {},
     "inputWidgets": {},
     "nuid": "e45f5401-1857-456f-8d7b-2ff9e0da5a3c",
     "showTitle": false,
     "tableResultSettingsMap": {},
     "title": ""
    }
   },
   "source": [
    "# 📘 Sesión 6 — Joins y Uniones de DataFrames en PySpark\n",
    "\n",
    "En la práctica real, los datos están distribuidos en múltiples tablas. Para analizarlos en conjunto, necesitamos combinarlos. Esto se logra con los **joins**, también conocidos como uniones de DataFrames.\n",
    "\n",
    "---\n",
    "\n",
    "## 🔧 Tipos de joins en PySpark\n",
    "\n",
    "| Tipo de Join     | Descripción                                              |\n",
    "|------------------|----------------------------------------------------------|\n",
    "| `inner`          | Devuelve solo las filas con claves coincidentes         |\n",
    "| `left`           | Devuelve todas las filas de la izquierda y las coincidentes de la derecha |\n",
    "| `right`          | Devuelve todas las filas de la derecha y las coincidentes de la izquierda |\n",
    "| `outer` (full)   | Devuelve todas las filas, coincidan o no                |\n",
    "| `semi` / `anti`  | Filtros especializados según existencia de coincidencia |\n",
    "\n",
    "---\n",
    "\n",
    "## ✨ ¿Cuándo se usan?\n",
    "\n",
    "- Para enriquecer una tabla con información adicional (cliente + transacción)\n",
    "- Para detectar registros sin coincidencias\n",
    "- Para construir un dataset unificado para análisis o modelos\n",
    "\n",
    "---"
   ]
  },
  {
   "cell_type": "code",
   "execution_count": 0,
   "metadata": {
    "application/vnd.databricks.v1+cell": {
     "cellMetadata": {
      "byteLimit": 2048000,
      "rowLimit": 10000
     },
     "inputWidgets": {},
     "nuid": "007eb296-f635-4856-a341-962d48bfa594",
     "showTitle": false,
     "tableResultSettingsMap": {},
     "title": ""
    }
   },
   "outputs": [],
   "source": [
    "from pyspark.sql import functions as F\n",
    "\n",
    "# Crear DataFrame de clientes\n",
    "df_clientes = spark.createDataFrame([\n",
    "    (1, \"Ana\"),\n",
    "    (2, \"Beto\"),\n",
    "    (3, \"Carla\"),\n",
    "    (4, \"David\")\n",
    "], [\"customerID\", \"nombre\"])\n",
    "\n",
    "# Crear DataFrame de transacciones\n",
    "df_transacciones = spark.createDataFrame([\n",
    "    (100, 1, 150),\n",
    "    (101, 2, 200),\n",
    "    (102, 5, 300),\n",
    "    (103, 6, 120)\n",
    "], [\"transactionID\", \"customerID\", \"monto\"])\n",
    "\n",
    "# INNER JOIN: solo clientes con transacciones\n",
    "print(\"📌 INNER JOIN\")\n",
    "df_inner = df_clientes.join(df_transacciones, on=\"customerID\", how=\"inner\")\n",
    "df_inner.show()\n",
    "# LEFT JOIN: todos los clientes, con o sin transacciones\n",
    "print(\"📌 LEFT JOIN\")\n",
    "df_left = df_clientes.alias(\"x\").join(\n",
    "            df_transacciones.alias(\"y\"), \n",
    "            on=\"customerID\", \n",
    "            how=\"left\"\n",
    "            )\n",
    "df_left.show()        \n",
    "\n",
    "# RIGHT JOIN: todas las transacciones, incluso si no hay cliente\n",
    "print(\"📌 RIGHT JOIN\")\n",
    "df_right = df_clientes.alias(\"x\").join(\n",
    "                df_transacciones.alias(\"y\"), \n",
    "                F.col(\"x.customerID\")==F.col(\"y.customerID\"), \n",
    "                how=\"right\").select(\n",
    "                    F.col(\"x.*\"),\n",
    "                    F.col(\"y.transactionID\"),\n",
    "                    F.col(\"y.monto\")\n",
    "                )\n",
    "df_right.show()\n",
    "\n",
    "# OUTER JOIN: todos los registros de ambos DataFrames\n",
    "print(\"📌 OUTER JOIN\")\n",
    "sql_query=\"\"\"\n",
    "select \n",
    "x.*, \n",
    "y.transactionID, y.monto\n",
    "from {clientes} x\n",
    "full outer join {transacciones} y ON x.customerID=y.customerID\n",
    "\"\"\"\n",
    "df_outer = spark.sql(sql_query, clientes=df_clientes, transacciones=df_transacciones)\n",
    "df_outer.show()"
   ]
  },
  {
   "cell_type": "markdown",
   "metadata": {
    "application/vnd.databricks.v1+cell": {
     "cellMetadata": {},
     "inputWidgets": {},
     "nuid": "df97c5c4-a3ef-4e11-bab3-4a69a3e20936",
     "showTitle": false,
     "tableResultSettingsMap": {},
     "title": ""
    }
   },
   "source": [
    " Script en PySpark — Ejemplo de UNION y UNION ALL con datos inventados"
   ]
  },
  {
   "cell_type": "code",
   "execution_count": 0,
   "metadata": {
    "application/vnd.databricks.v1+cell": {
     "cellMetadata": {
      "byteLimit": 2048000,
      "rowLimit": 10000
     },
     "inputWidgets": {},
     "nuid": "5c5b72a3-573e-4c29-809c-0cb3c7c55439",
     "showTitle": false,
     "tableResultSettingsMap": {},
     "title": ""
    }
   },
   "outputs": [],
   "source": [
    "# Crear el primer DataFrame (clientes registrados en enero)\n",
    "df_enero = spark.createDataFrame([\n",
    "    (1, \"Ana\", \"Mexico\"),\n",
    "    (2, \"Luis\", \"Argentina\"),\n",
    "    (3, \"Camila\", \"Chile\")\n",
    "], [\"customerID\", \"nombre\", \"pais\"])\n",
    "\n",
    "# Crear el segundo DataFrame (clientes registrados en febrero)\n",
    "df_febrero = spark.createDataFrame([\n",
    "    (3, \"Camila\", \"Chile\"),         # repetido\n",
    "    (4, \"Pedro\", \"Colombia\"),\n",
    "    (5, \"Lucía\", \"Perú\")\n",
    "], [\"customerID\", \"nombre\", \"pais\"])\n",
    "\n",
    "# UNION: elimina duplicados automáticamente\n",
    "df_union = df_enero.union(df_febrero).distinct()\n",
    "\n",
    "# UNION ALL: conserva todos los registros, incluyendo duplicados\n",
    "df_union_all = df_enero.union(df_febrero)\n",
    "\n",
    "# Mostrar resultados\n",
    "print(\"📌 UNION (sin duplicados):\")\n",
    "df_union.show()\n",
    "\n",
    "print(\"📌 UNION ALL (con duplicados):\")\n",
    "df_union_all.show()"
   ]
  },
  {
   "cell_type": "markdown",
   "metadata": {
    "application/vnd.databricks.v1+cell": {
     "cellMetadata": {},
     "inputWidgets": {},
     "nuid": "aa1bcc0f-60c6-4410-83ce-d028c0e2c8d9",
     "showTitle": false,
     "tableResultSettingsMap": {},
     "title": ""
    }
   },
   "source": [
    "✍️ Ejercicio — Inner Join entre franquicias y transacciones\n",
    "\n",
    "📘 Objetivo\n",
    "\n",
    "Combinar la información de las franquicias con las transacciones de venta, para analizar cuántas operaciones se realizaron por país. Vamos a usar un inner join entre las tablas:\n",
    "- samples.bakehouse.sales_franchises\n",
    "- samples.bakehouse.sales_transactions\n",
    "\n",
    "🗂️ Esquema de columnas relevantes\n",
    "\n",
    "sales_franchises\n",
    "```sh\n",
    "\t•\tfranchiseID\n",
    "\t•\tcountry\n",
    "\t•\tcity\n",
    "\t•\tstate\n",
    "  ```\n",
    "\n",
    "sales_transactions\n",
    "\n",
    "```sh\n",
    "\t•\ttransactionID\n",
    "\t•\tfranchiseID\n",
    "\t•\tdateTime\n",
    "\t•\ttotalPrice\n",
    "\t•\tproduct\n",
    "``` \n",
    "\n",
    "🎯 Enunciado del ejercicio:\n",
    "\n",
    "- 1 Realizá un inner join entre sales_franchises y sales_transactions usando la columna franchiseID como clave.\n",
    "- 2 Calculá cuántas transacciones se realizaron por país (country).\n",
    "- 3 Mostrá los resultados en un DataFrame con las columnas:\n",
    "  - country\n",
    "  - rowsn (cantidad de transacciones)\n",
    "- 4 Ordená los resultados de forma descendente según el número de transacciones."
   ]
  }
 ],
 "metadata": {
  "application/vnd.databricks.v1+notebook": {
   "computePreferences": null,
   "dashboards": [],
   "environmentMetadata": {
    "base_environment": "",
    "environment_version": "2"
   },
   "inputWidgetPreferences": null,
   "language": "python",
   "notebookMetadata": {
    "mostRecentlyExecutedCommandWithImplicitDF": {
     "commandId": 7780394177260641,
     "dataframes": [
      "_sqldf"
     ]
    },
    "pythonIndentUnit": 4
   },
   "notebookName": "Join_Uniones",
   "widgets": {}
  },
  "language_info": {
   "name": "python"
  }
 },
 "nbformat": 4,
 "nbformat_minor": 0
}
